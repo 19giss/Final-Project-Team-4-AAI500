{
 "cells": [
  {
   "cell_type": "markdown",
   "id": "90e6d997-ad7a-4573-a5f2-375991571978",
   "metadata": {},
   "source": [
    "# 1. Data Cleaning\n",
    "# 2. Exploratory Data Analysis (EDA)\n",
    "# 3. Model Selection\n",
    "# 4. Model Analysis\n",
    "# 5. Conclusion & Recommendations"
   ]
  },
  {
   "cell_type": "code",
   "execution_count": null,
   "id": "20bfba64-0649-42c7-b982-83a5747d80fc",
   "metadata": {},
   "outputs": [],
   "source": []
  }
 ],
 "metadata": {
  "kernelspec": {
   "display_name": "Python [conda env:base] *",
   "language": "python",
   "name": "conda-base-py"
  },
  "language_info": {
   "codemirror_mode": {
    "name": "ipython",
    "version": 3
   },
   "file_extension": ".py",
   "mimetype": "text/x-python",
   "name": "python",
   "nbconvert_exporter": "python",
   "pygments_lexer": "ipython3",
   "version": "3.11.7"
  }
 },
 "nbformat": 4,
 "nbformat_minor": 5
}
